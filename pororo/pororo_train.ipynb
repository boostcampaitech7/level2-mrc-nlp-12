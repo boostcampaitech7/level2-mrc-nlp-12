{
 "cells": [
  {
   "cell_type": "markdown",
   "metadata": {},
   "source": [
    "----------\n",
    "##### import Pororo"
   ]
  },
  {
   "cell_type": "code",
   "execution_count": 1,
   "metadata": {},
   "outputs": [
    {
     "name": "stderr",
     "output_type": "stream",
     "text": [
      "/data/ephemeral/home/shark/lib/python3.8/site-packages/tqdm/auto.py:21: TqdmWarning: IProgress not found. Please update jupyter and ipywidgets. See https://ipywidgets.readthedocs.io/en/stable/user_install.html\n",
      "  from .autonotebook import tqdm as notebook_tqdm\n"
     ]
    }
   ],
   "source": [
    "import pororo\n",
    "from pororo import Pororo"
   ]
  },
  {
   "cell_type": "markdown",
   "metadata": {},
   "source": [
    "----------\n",
    "##### 필요 Import"
   ]
  },
  {
   "cell_type": "code",
   "execution_count": 42,
   "metadata": {},
   "outputs": [],
   "source": [
    "#import 모음\n",
    "\n",
    "import nltk\n",
    "import torch\n",
    "import random\n",
    "from datasets import load_from_disk, Dataset, DatasetDict, concatenate_datasets\n"
   ]
  },
  {
   "cell_type": "markdown",
   "metadata": {},
   "source": [
    "----------\n",
    "##### 초기 설정\n",
    "- nltk.download 진행 시 'punkt'가 아닌 'punkt_tab'을 입력  \n",
    "▶ 'punkt' 입력할 경우 mt(mt(text, src=\"ko\", tgt=\"en\"), src=\"en\", tgt=\"ko\")에서 오류 발생"
   ]
  },
  {
   "cell_type": "code",
   "execution_count": 14,
   "metadata": {},
   "outputs": [
    {
     "name": "stderr",
     "output_type": "stream",
     "text": [
      "[nltk_data] Downloading package punkt_tab to\n",
      "[nltk_data]     /data/ephemeral/home/nltk_data...\n",
      "[nltk_data]   Package punkt_tab is already up-to-date!\n"
     ]
    }
   ],
   "source": [
    "device = \"cuda\" if torch.cuda.is_available() else \"cpu\"\n",
    "nltk.download('punkt_tab')\n",
    "mt = Pororo(task=\"translation\", lang=\"multi\", model='transformer.large.multi.mtpg')"
   ]
  },
  {
   "cell_type": "markdown",
   "metadata": {},
   "source": [
    "----------\n",
    "##### 데이터 불러오기"
   ]
  },
  {
   "cell_type": "code",
   "execution_count": 15,
   "metadata": {},
   "outputs": [
    {
     "name": "stdout",
     "output_type": "stream",
     "text": [
      "3952\n"
     ]
    }
   ],
   "source": [
    "disk = \"/data/ephemeral/home/level2-mrc-nlp-12/data\"\n",
    "\n",
    "train_data = load_from_disk(disk + \"/train_dataset/\")\n",
    "train_dataset = train_data[\"train\"]\n",
    "print(len(train_data['train']))"
   ]
  },
  {
   "cell_type": "markdown",
   "metadata": {},
   "source": [
    "----------\n",
    "##### 역번역"
   ]
  },
  {
   "cell_type": "code",
   "execution_count": 28,
   "metadata": {},
   "outputs": [],
   "source": [
    "def back_translation(text):\n",
    "    return mt(mt(text, src=\"ko\", tgt=\"en\"), src=\"en\", tgt=\"ko\")"
   ]
  },
  {
   "cell_type": "code",
   "execution_count": 29,
   "metadata": {},
   "outputs": [
    {
     "name": "stdout",
     "output_type": "stream",
     "text": [
      "케빈은 집에 갔다 하지만 나는 더 뛰고 싶다\n"
     ]
    }
   ],
   "source": [
    "text = \"케빈은 집에 갔다. 그러나 더 놀고 싶어한다.\"\n",
    "test = back_translation(text)\n",
    "print(test)"
   ]
  },
  {
   "cell_type": "markdown",
   "metadata": {},
   "source": [
    "----------\n",
    "##### 증강"
   ]
  },
  {
   "cell_type": "code",
   "execution_count": 30,
   "metadata": {},
   "outputs": [],
   "source": [
    "def augment_data(train_dataset, limit):\n",
    "    augmented_examples = []\n",
    "    for idx, example in enumerate(train_dataset):\n",
    "        if idx >= limit:\n",
    "            break\n",
    "        original_question = example['question']\n",
    "        \n",
    "        #역번역\n",
    "        back_translated_question = back_translation(original_question)\n",
    "        \n",
    "        # 새로운 예제 생성\n",
    "        new_example = example.copy()\n",
    "        new_example['question'] = back_translated_question\n",
    "        \n",
    "        augmented_examples.append(new_example)\n",
    "    \n",
    "    # 리스트를 딕셔너리로 변환하여 Dataset 생성\n",
    "    aug_train_data_dict = {key: [ex[key] for ex in augmented_examples] for key in augmented_examples[0]}\n",
    "    aug_train_data = Dataset.from_dict(aug_train_data_dict)\n",
    "    \n",
    "    return aug_train_data"
   ]
  },
  {
   "cell_type": "code",
   "execution_count": 34,
   "metadata": {},
   "outputs": [],
   "source": [
    "#제한 개수\n",
    "augmentation_limit = len(train_data['train'])       #전체\n",
    "\n",
    "aug_train_data = augment_data(train_dataset, augmentation_limit)"
   ]
  },
  {
   "cell_type": "markdown",
   "metadata": {},
   "source": [
    "----------\n",
    "##### 데이터 출력 (상위 10개)"
   ]
  },
  {
   "cell_type": "code",
   "execution_count": 39,
   "metadata": {},
   "outputs": [
    {
     "name": "stdout",
     "output_type": "stream",
     "text": [
      "기존 질문  : 대통령을 포함한 미국의 행정부 견제권을 갖는 국가 기관은?\n",
      "역번역 질문: 어떤 국가기관이 대통령을 포함한 미국 행정부를 견제할 권리가 있는가?\n",
      "\n",
      "기존 질문  : 현대적 인사조직관리의 시발점이 된 책은?\n",
      "역번역 질문: 현대 인사 운영의 출발점이 어떤 책이 됐을까?\n",
      "\n",
      "기존 질문  : 강희제가 1717년에 쓴 글은 누구를 위해 쓰여졌는가?\n",
      "역번역 질문: 강희제가 누구를 위해 1717년에 썼나요?\n",
      "\n",
      "기존 질문  : 11~12세기에 제작된 본존불은 보통 어떤 나라의 특징이 전파되었나요?\n",
      "역번역 질문: 보통 11세기와 12세기에 전국의 특성이 어떤 것이냐는 것이다.\n",
      "\n",
      "기존 질문  : 명문이 적힌 유물을 구성하는 그릇의 총 개수는?\n",
      "역번역 질문: 그 이름으로 작성된 유물의 전체 병은 몇 개입니까?\n",
      "\n",
      "기존 질문  : 카드모스의 부하들이 간 곳에는 무엇이 있었는가?\n",
      "역번역 질문: 카드모스 남자들이 어디로 갔지?\n",
      "\n",
      "기존 질문  : 관우를 불태워 죽이려한 사람 누구인가?\n",
      "역번역 질문: 관을 태우려던 사람은 누구입니까?\n",
      "\n",
      "기존 질문  : 참호 속에 무기와 장비를 버리고 도주한 집단은?\n",
      "역번역 질문: 재난 속에서 무기와 장비를 버린 사람들이 한 무리인가요?\n",
      "\n",
      "기존 질문  : 제2차 세계 대전에 참전하여 사망한 자식은?\n",
      "역번역 질문: 2차 세계대전에서 누가 죽었나요?\n",
      "\n",
      "기존 질문  : 고려 공민왕이 처가 식구들과 아내와 함께 피신처로 삼은 마을은?\n",
      "역번역 질문: 고려왕은 어떤 마을에서 아내의 가족과 아내를 피난처로 만들었을까?\n",
      "\n"
     ]
    }
   ],
   "source": [
    "for idx, (original, augmented) in enumerate(zip(train_dataset, aug_train_data)):\n",
    "    if idx >= 10:\n",
    "        break\n",
    "    print(f\"기존 질문  : {original['question']}\")\n",
    "    print(f\"역번역 질문: {augmented['question']}\\n\")"
   ]
  },
  {
   "cell_type": "markdown",
   "metadata": {},
   "source": [
    "##### 랜덤한 30개 출력"
   ]
  },
  {
   "cell_type": "code",
   "execution_count": 40,
   "metadata": {},
   "outputs": [
    {
     "name": "stdout",
     "output_type": "stream",
     "text": [
      "기존 질문  : 엘리노어 여사가 사망한 해는?\n",
      "역번역 질문: 엘리노 부인은 몇 년 동안 죽었습니까?\n",
      "\n",
      "기존 질문  : 원희룡이 사상적 전환을 맞게 된 계기가 된 것은?\n",
      "역번역 질문: 원희룡이 이념적 전환에 직면할 수 있는 기회인가?\n",
      "\n",
      "기존 질문  : 잘록한 허리가 두드러지게 옷을 입는 방법은?\n",
      "역번역 질문: 날카로운 허리로 옷을 입을 방법이 어떻게 되나요?\n",
      "\n",
      "기존 질문  : 기후 변화 대응 체계 해소 취지에 선구할 수 있는 방안으로 대두되는 농업 장소는?\n",
      "역번역 질문: 기후변화 대응체계 해결을 위한 선제적 대책으로 농업현장이 어디로 떠오르고 있는가?\n",
      "\n",
      "기존 질문  : 6월 28일에 북한은 어디를 점거하였는가?\n",
      "역번역 질문: 북한은 6월 28일 어디서 인수했습니까?\n",
      "\n",
      "기존 질문  : 이자성이 산해군을 공격할 때 동원한 군사의 수는?\n",
      "역번역 질문: 이자성이 상하이 육군을 공격했을 때 동원한 병사들은 몇 명인가?\n",
      "\n",
      "기존 질문  : 에우포르보스와 아폴론이 함께 공격했던 인물은?\n",
      "역번역 질문: 토르보스와 아폴로에게 공격당한 사람은 누구였습니까?\n",
      "\n",
      "기존 질문  : 꼬리가 있는 도롱뇽과 달리 개구리는 분추류에서 갈라져 나왔다고 제시한 사람은?\n",
      "역번역 질문: 미세한 도론과 달리 개구리가 낙하산에서 분리됐다고 제안한 사람은 누구인가?\n",
      "\n",
      "기존 질문  : 신탁통치 오보사건은 어떤 신문사와 관련되어있나요?\n",
      "역번역 질문: 어느 신문이 신뢰의 잘못된 정보에 관여하고 있는가?\n",
      "\n",
      "기존 질문  : 로블링이 왕복선에 의해 다친 부위는?\n",
      "역번역 질문: 로밍이 셔틀에 부상을 입은 지역은 어디 있지?\n",
      "\n",
      "기존 질문  : S.롱스타드 중위의 국적은?\n",
      "역번역 질문: 롱스타드 중위의 국적은 무엇입니까?\n",
      "\n",
      "기존 질문  : 라파엘의 10월14일 오전 12시경의 풍속은?\n",
      "역번역 질문: 라파엘의 풍속은 10월 14일 오전 12시쯤 어떤가?\n",
      "\n",
      "기존 질문  : 1801년 상산군부인 송마리아와 평산군부인 신마리아가 죽임을 당한 일과 관련있는 종교는?\n",
      "역번역 질문: 상산군 여성 송마리아와 평산군 신마리아가 1801년 사망한 것과 관련이 있는 종교는 무엇인가?\n",
      "\n",
      "기존 질문  : 이보 안드리치가 시집 <알리야 제르젤레즈의 여행>을 발표한 해는 언제인가?\n",
      "역번역 질문: 아이보 안드리치가 자신의 시인 알리아 게르젤레스의 여행을 펴낸 해는 언제였을까?\n",
      "\n",
      "기존 질문  : 시집 《하늘과 바람과 별과 시》를 출간한 사람은?\n",
      "역번역 질문: 누가 \"시, 바람, 별, 시\"를 펴냈을까?\n",
      "\n",
      "기존 질문  : 2008년 FIBT 세계 선수권대회 개최국은?\n",
      "역번역 질문: 2008년 FIBT 월드 챔피언십은 어때?\n",
      "\n",
      "기존 질문  : 프로이트가 건강한 여성이 사춘기 이후부터 느껴야하는 오르가즘으로 주장한 것은?\n",
      "역번역 질문: 사춘기부터 건강한 여성이 느껴야 한다는 프로이트의 주장은 무엇인가?\n",
      "\n",
      "기존 질문  : 윌리엄 3세가 2개 지역의 왕이었던 해는?\n",
      "역번역 질문: 두 지역의 왕 윌리엄 3세가 몇 년이었나요?\n",
      "\n",
      "기존 질문  : 지구연방군이 붉은 혜성이라 부르는 인물은?\n",
      "역번역 질문: 그 남자는 지구 연방 육군의 붉은 혜성이라고 불리는 게 뭐야?\n",
      "\n",
      "기존 질문  : 이집트를 통일한 나라가 섬긴 신은?\n",
      "역번역 질문: 이집트 통일국가의 신?\n",
      "\n",
      "기존 질문  : 키라와 카가리 유라 아스하는 어떤 관계인가?\n",
      "역번역 질문: 키라와 가가리 유라와 어떤 관계가 있는가?\n",
      "\n",
      "기존 질문  : 이순몽 장군의 자택이 설립된 시기는?\n",
      "역번역 질문: 이순문 장군의 자택 설립은 몇 시였나요?\n",
      "\n",
      "기존 질문  : 레닌의 선봉대로 러시아 제국을 완벽히 무너뜨린 단체는?\n",
      "역번역 질문: 러시아 제국을 레닌의 리더로 완전히 파괴한 그룹이 아닐까?\n",
      "\n",
      "기존 질문  : 휘석과 달리 각섬석이 보유하고 있는 것은 무엇인가?\n",
      "역번역 질문: 희석과 달리 어떤 것이 있습니까?\n",
      "\n",
      "기존 질문  : 조고가 차기 승계자로 지정한 인물을 죽인 사람은 누구인가?\n",
      "역번역 질문: 조고가 다음 후임으로 지정한 사람을 누가 죽였을까?\n",
      "\n",
      "기존 질문  : 아물라드의 아들이 밤베르크의 주교로 서임된 해는?\n",
      "역번역 질문: 아물라드의 아들이 범버른의 주교로 임명된 해인가?\n",
      "\n",
      "기존 질문  : 오버헤드를 감소시키기 위해서는 무엇을 크게 만들면 되는가?\n",
      "역번역 질문: 간접화를 줄이려면 무엇을 할 수 있을까요?\n",
      "\n",
      "기존 질문  : 10월 23일 독일군은 어디에서 후퇴하던 중이었나?\n",
      "역번역 질문: 독일군은 10월 23일에 어디로 후퇴했습니까?\n",
      "\n",
      "기존 질문  : 5번째 확진자의 근무지는?\n",
      "역번역 질문: 다섯 번째로 확인된 사람은 어디 있지?\n",
      "\n",
      "기존 질문  : 《나니아 연대기》시리즈 중 시간 설정이 가장 먼저인 작품의 이름은?\n",
      "역번역 질문: '나니아 연대' 시리즈에서 처음으로 시간을 정한 작품의 이름은 무엇인가?\n",
      "\n"
     ]
    }
   ],
   "source": [
    "random_indices = random.sample(range(len(train_dataset)), 30)\n",
    "\n",
    "# 원래 질문과 역번역된 질문 출력 (랜덤 30개)\n",
    "for idx in random_indices:\n",
    "    original = train_dataset[idx]\n",
    "    augmented = aug_train_data[idx]\n",
    "    print(f\"기존 질문  : {original['question']}\")\n",
    "    print(f\"역번역 질문: {augmented['question']}\\n\")"
   ]
  },
  {
   "cell_type": "markdown",
   "metadata": {},
   "source": [
    "----------\n",
    "##### 새로운 disk에 저장"
   ]
  },
  {
   "cell_type": "code",
   "execution_count": 43,
   "metadata": {},
   "outputs": [
    {
     "name": "stderr",
     "output_type": "stream",
     "text": [
      "Saving the dataset (1/1 shards): 100%|██████████| 7904/7904 [00:00<00:00, 219420.33 examples/s]\n"
     ]
    }
   ],
   "source": [
    "combined_data = DatasetDict({'train': concatenate_datasets([train_dataset, aug_train_data])})\n",
    "combined_data.save_to_disk(disk + \"/pororo_train_data/\")"
   ]
  },
  {
   "cell_type": "code",
   "execution_count": 46,
   "metadata": {},
   "outputs": [
    {
     "ename": "TypeError",
     "evalue": "'DatasetInfo' object is not callable",
     "output_type": "error",
     "traceback": [
      "\u001b[0;31m---------------------------------------------------------------------------\u001b[0m",
      "\u001b[0;31mTypeError\u001b[0m                                 Traceback (most recent call last)",
      "Cell \u001b[0;32mIn[46], line 1\u001b[0m\n\u001b[0;32m----> 1\u001b[0m \u001b[43mcombined_data\u001b[49m\u001b[43m[\u001b[49m\u001b[38;5;124;43m'\u001b[39;49m\u001b[38;5;124;43mtrain\u001b[39;49m\u001b[38;5;124;43m'\u001b[39;49m\u001b[43m]\u001b[49m\u001b[38;5;241;43m.\u001b[39;49m\u001b[43minfo\u001b[49m\u001b[43m(\u001b[49m\u001b[43m)\u001b[49m\n",
      "\u001b[0;31mTypeError\u001b[0m: 'DatasetInfo' object is not callable"
     ]
    }
   ],
   "source": [
    "combined_data['train'][7341]"
   ]
  }
 ],
 "metadata": {
  "kernelspec": {
   "display_name": "Python 3",
   "language": "python",
   "name": "python3"
  },
  "language_info": {
   "codemirror_mode": {
    "name": "ipython",
    "version": 3
   },
   "file_extension": ".py",
   "mimetype": "text/x-python",
   "name": "python",
   "nbconvert_exporter": "python",
   "pygments_lexer": "ipython3",
   "version": "3.8.20"
  }
 },
 "nbformat": 4,
 "nbformat_minor": 2
}
