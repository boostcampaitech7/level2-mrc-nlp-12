{
 "cells": [
  {
   "cell_type": "markdown",
   "metadata": {},
   "source": [
    "##### Pororo를 활용한 역번역\n",
    "- train_dataset에 존재하는 question 데이터를 증강하기 위해서 사용했습니다.\n",
    "- question을 제외한 기존의 필드는 유지하는 조건을 가져갑니다."
   ]
  },
  {
   "cell_type": "markdown",
   "metadata": {},
   "source": [
    "----------\n",
    "##### import Pororo"
   ]
  },
  {
   "cell_type": "code",
   "execution_count": 1,
   "metadata": {},
   "outputs": [
    {
     "name": "stderr",
     "output_type": "stream",
     "text": [
      "/data/ephemeral/home/shark/lib/python3.8/site-packages/tqdm/auto.py:21: TqdmWarning: IProgress not found. Please update jupyter and ipywidgets. See https://ipywidgets.readthedocs.io/en/stable/user_install.html\n",
      "  from .autonotebook import tqdm as notebook_tqdm\n"
     ]
    }
   ],
   "source": [
    "import pororo\n",
    "from pororo import Pororo"
   ]
  },
  {
   "cell_type": "markdown",
   "metadata": {},
   "source": [
    "----------\n",
    "##### 필요 Import"
   ]
  },
  {
   "cell_type": "code",
   "execution_count": 2,
   "metadata": {},
   "outputs": [],
   "source": [
    "import nltk\n",
    "import torch\n",
    "import random\n",
    "from datasets import load_from_disk, Dataset, DatasetDict, concatenate_datasets\n"
   ]
  },
  {
   "cell_type": "markdown",
   "metadata": {},
   "source": [
    "----------\n",
    "##### 초기 설정\n",
    "- nltk.download 진행 시 'punkt'가 아닌 'punkt_tab'을 입력  \n",
    "※ 'punkt' 입력할 경우 mt(mt(text, src=\"ko\", tgt=\"en\"), src=\"en\", tgt=\"ko\")에서 오류 발생"
   ]
  },
  {
   "cell_type": "code",
   "execution_count": 3,
   "metadata": {},
   "outputs": [
    {
     "name": "stderr",
     "output_type": "stream",
     "text": [
      "[nltk_data] Downloading package punkt_tab to\n",
      "[nltk_data]     /data/ephemeral/home/nltk_data...\n",
      "[nltk_data]   Package punkt_tab is already up-to-date!\n"
     ]
    }
   ],
   "source": [
    "device = \"cuda\" if torch.cuda.is_available() else \"cpu\"\n",
    "nltk.download('punkt_tab')\n",
    "mt = Pororo(task=\"translation\", lang=\"multi\", model='transformer.large.multi.mtpg')"
   ]
  },
  {
   "cell_type": "markdown",
   "metadata": {},
   "source": [
    "----------\n",
    "##### 데이터 불러오기"
   ]
  },
  {
   "cell_type": "code",
   "execution_count": 4,
   "metadata": {},
   "outputs": [
    {
     "name": "stdout",
     "output_type": "stream",
     "text": [
      "3952\n"
     ]
    }
   ],
   "source": [
    "disk = \"/data/ephemeral/home/level2-mrc-nlp-12/data\"\n",
    "\n",
    "train_data = load_from_disk(disk + \"/train_dataset/\")\n",
    "train_dataset = train_data[\"train\"]\n",
    "print(len(train_data['train'])) "
   ]
  },
  {
   "cell_type": "markdown",
   "metadata": {},
   "source": [
    "----------\n",
    "##### 역번역"
   ]
  },
  {
   "cell_type": "code",
   "execution_count": 5,
   "metadata": {},
   "outputs": [],
   "source": [
    "def en_back_translation(text):\n",
    "    return mt(mt(text, src=\"ko\", tgt=\"en\"), src=\"en\", tgt=\"ko\")"
   ]
  },
  {
   "cell_type": "code",
   "execution_count": 6,
   "metadata": {},
   "outputs": [],
   "source": [
    "def ja_back_translation(text):\n",
    "    return mt(mt(text, src=\"ko\", tgt=\"ja\"), src=\"ja\", tgt=\"ko\")"
   ]
  },
  {
   "cell_type": "code",
   "execution_count": 7,
   "metadata": {},
   "outputs": [
    {
     "name": "stderr",
     "output_type": "stream",
     "text": [
      "[Kss]: Oh! You have mecab in your environment. Kss will take this as a backend! :D\n",
      "\n"
     ]
    },
    {
     "name": "stdout",
     "output_type": "stream",
     "text": [
      "케빈은 집에 돌아갔어. 하지만 더 놀고 싶어.\n"
     ]
    }
   ],
   "source": [
    "text = \"케빈은 집에 갔다. 그러나 더 놀고 싶어한다.\"\n",
    "test = ja_back_translation(text)\n",
    "print(test)"
   ]
  },
  {
   "cell_type": "markdown",
   "metadata": {},
   "source": [
    "----------\n",
    "##### 증강\n",
    "- **돌리기 전에 en_back_translation인지, ja_back_translation인지 확인!!!!!!**"
   ]
  },
  {
   "cell_type": "code",
   "execution_count": 11,
   "metadata": {},
   "outputs": [],
   "source": [
    "def augment_data(train_dataset, limit):\n",
    "    augmented_examples = []\n",
    "    for idx, example in enumerate(train_dataset):\n",
    "        if idx >= limit:\n",
    "            break\n",
    "        original_question = example['question']\n",
    "        \n",
    "        '''\n",
    "        역번역\n",
    "        - 영어로 할 경우 en_back_translatiom\n",
    "        - 일본어로 할 경우 ja_back_translation\n",
    "        \n",
    "        반드시 돌리기 전에 확인할 것!!!!!!!!!!!\n",
    "        '''\n",
    "        back_translated_question = ja_back_translation(original_question)           #en_back_translation(original_question)  \n",
    "        \n",
    "        \n",
    "        # 새로운 예제 생성\n",
    "        new_example = example.copy()\n",
    "        new_example['question'] = back_translated_question\n",
    "        \n",
    "        augmented_examples.append(new_example)\n",
    "    \n",
    "    # 리스트를 딕셔너리로 변환하여 Dataset 생성\n",
    "    aug_train_data_dict = {key: [ex[key] for ex in augmented_examples] for key in augmented_examples[0]}\n",
    "    aug_train_data = Dataset.from_dict(aug_train_data_dict)\n",
    "    \n",
    "    return aug_train_data"
   ]
  },
  {
   "cell_type": "markdown",
   "metadata": {},
   "source": [
    "**영어 역번역 데이터 :: aug_train_data**"
   ]
  },
  {
   "cell_type": "code",
   "execution_count": 9,
   "metadata": {},
   "outputs": [],
   "source": [
    "#제한 개수\n",
    "augmentation_limit = len(train_data['train'])       #전체\n",
    "\n",
    "aug_train_data = augment_data(train_dataset, augmentation_limit)"
   ]
  },
  {
   "cell_type": "markdown",
   "metadata": {},
   "source": [
    "**일본어 역번역 데이터 :: ja_train_data**"
   ]
  },
  {
   "cell_type": "code",
   "execution_count": 12,
   "metadata": {},
   "outputs": [],
   "source": [
    "#제한 개수\n",
    "augmentation_limit = len(train_data['train'])       #전체\n",
    "\n",
    "ja_train_data = augment_data(train_dataset, augmentation_limit)"
   ]
  },
  {
   "cell_type": "markdown",
   "metadata": {},
   "source": [
    "----------\n",
    "##### 데이터 출력 (상위 10개)\n",
    "- aug_train_data(영어) / ja_train_data(일본어) 중 택1"
   ]
  },
  {
   "cell_type": "code",
   "execution_count": 13,
   "metadata": {},
   "outputs": [
    {
     "name": "stdout",
     "output_type": "stream",
     "text": [
      "[ 0 ] 기존 질문  : 대통령을 포함한 미국의 행정부 견제권을 갖는 국가 기관은?\n",
      "[ 0 ] 역번역 질문: 대통령을 포함한 미국 행정부의 견제권을 가진 국가기관은?\n",
      "\n",
      "[ 1 ] 기존 질문  : 현대적 인사조직관리의 시발점이 된 책은?\n",
      "[ 1 ] 역번역 질문: 현대인사조직관리의 시발점이 된 책은?\n",
      "\n",
      "[ 2 ] 기존 질문  : 강희제가 1717년에 쓴 글은 누구를 위해 쓰여졌는가?\n",
      "[ 2 ] 역번역 질문: 강희제가 1717년에 쓴 글은 누구를 위해 썼는가?\n",
      "\n",
      "[ 3 ] 기존 질문  : 11~12세기에 제작된 본존불은 보통 어떤 나라의 특징이 전파되었나요?\n",
      "[ 3 ] 역번역 질문: 11~12세기에 제작된 본존불은 보통 어느 나라의 특징이 전파되었습니까?\n",
      "\n",
      "[ 4 ] 기존 질문  : 명문이 적힌 유물을 구성하는 그릇의 총 개수는?\n",
      "[ 4 ] 역번역 질문: 명문이 쓴 유물을 구성하는 그릇의 총수는?\n",
      "\n",
      "[ 5 ] 기존 질문  : 카드모스의 부하들이 간 곳에는 무엇이 있었는가?\n",
      "[ 5 ] 역번역 질문: 카드모스 부하가 간 곳에는 무슨 일이 있었나?\n",
      "\n",
      "[ 6 ] 기존 질문  : 관우를 불태워 죽이려한 사람 누구인가?\n",
      "[ 6 ] 역번역 질문: 관우를 불태워 죽이려고 한 사람은 누군가\n",
      "\n",
      "[ 7 ] 기존 질문  : 참호 속에 무기와 장비를 버리고 도주한 집단은?\n",
      "[ 7 ] 역번역 질문: 참호 속에 무기와 장비를 버리고 도주한 집단은?\n",
      "\n",
      "[ 8 ] 기존 질문  : 제2차 세계 대전에 참전하여 사망한 자식은?\n",
      "[ 8 ] 역번역 질문: 제2차 세계대전에 참전해서 죽은 아이는?\n",
      "\n",
      "[ 9 ] 기존 질문  : 고려 공민왕이 처가 식구들과 아내와 함께 피신처로 삼은 마을은?\n",
      "[ 9 ] 역번역 질문: 고려 공민왕이 아내의 가족과 아내와 함께 피난소로 삼은 마을은?\n",
      "\n"
     ]
    }
   ],
   "source": [
    "for idx, (original, augmented) in enumerate(zip(train_dataset, ja_train_data)):\n",
    "    if idx >= 10:\n",
    "        break\n",
    "    print(\"[\", idx, \"]\" + f\" 기존 질문  : {original['question']}\")\n",
    "    print(\"[\", idx, \"]\" + f\" 역번역 질문: {augmented['question']}\\n\")"
   ]
  },
  {
   "cell_type": "markdown",
   "metadata": {},
   "source": [
    "##### 랜덤한 30개 출력"
   ]
  },
  {
   "cell_type": "code",
   "execution_count": 14,
   "metadata": {},
   "outputs": [
    {
     "name": "stdout",
     "output_type": "stream",
     "text": [
      "[ 3220 ] 기존 질문  : 브리오니 협정에 따르면, 슬로베니아는 독립 선포 후 얼마동안 독립 활동을 멈춰야 하는가?\n",
      "[ 3220 ] 역번역 질문: 브리오니 협정에 따르면 슬로베니아가 독립선언 이후 독립을 얼마나 중단해야 할까.\n",
      "\n",
      "[ 2990 ] 기존 질문  : 키토 지역 토착민들이 잉카 군대에게 큰 타격을 준 곳은?\n",
      "[ 2990 ] 역번역 질문: 키토에 있는 토착민들이 영국군에 어떤 큰 타격을 입는가?\n",
      "\n",
      "[ 1745 ] 기존 질문  : 비율효과는 재화의 수요가 어떤 특징을 가지기 때문에 발생하는 효과인가?\n",
      "[ 1745 ] 역번역 질문: 상품에 대한 수요가 특성을 갖고 있기 때문에 비율효과가 어떤 영향을 미치는가?\n",
      "\n",
      "[ 515 ] 기존 질문  : 미국 기업이 선호하는 나라는 어떤 것이 저조한가요?\n",
      "[ 515 ] 역번역 질문: 미국 기업들이 선호하는 나라는 무엇인가?\n",
      "\n",
      "[ 1191 ] 기존 질문  : 비트겐슈타인이 소피야 야노프스카야를 만났던 연도는?\n",
      "[ 1191 ] 역번역 질문: 비트겐슈타인은 소피다 언제 야노프스카야를 만났니?\n",
      "\n",
      "[ 3286 ] 기존 질문  : 불리한 정보를 배제하는 이유에 대해 말한 사람은?\n",
      "[ 3286 ] 역번역 질문: 당신이 왜 불리한 정보를 제외하는지 아무도 알려주지 않았나요?\n",
      "\n",
      "[ 918 ] 기존 질문  : 호라티우스가 아테네로 공부하러 가게되었던 해는?\n",
      "[ 918 ] 역번역 질문: 호라티우스는 아테네에서 어느 해 공부를 했나요?\n",
      "\n",
      "[ 2505 ] 기존 질문  : 모투부가 1959년에 다시 방문한 곳은?\n",
      "[ 2505 ] 역번역 질문: 자동차부가 1959년에 다시 방문한 것은 무엇인가?\n",
      "\n",
      "[ 3924 ] 기존 질문  : 섭정가의 경제 기반에 큰 타격을 준 명령이 발포된 시기는?\n",
      "[ 3924 ] 역번역 질문: 협상가의 경제적 기반에 부딪히는 지시 발표는 언제였을까?\n",
      "\n",
      "[ 96 ] 기존 질문  : 소나타의 시초가 된 연습곡을 만든 사람은?\n",
      "[ 96 ] 역번역 질문: 누가 소나타의 첫 연습곡을 만들었지?\n",
      "\n",
      "[ 1325 ] 기존 질문  : 거문도를 포트해필턴이라고 불렀던 국가는?\n",
      "[ 1325 ] 역번역 질문: 어느 나라에서 거문도 포트하필턴이라고 불렀어요?\n",
      "\n",
      "[ 3547 ] 기존 질문  : 크리스티 역은 어느 도시에 있는가?\n",
      "[ 3547 ] 역번역 질문: 어느 도시가 크리스티 역입니까?\n",
      "\n",
      "[ 1945 ] 기존 질문  : 단순한 안티 바이러스 도구들이 네트워크 트래픽 점검을 통해 찾을 수 있는 것은?\n",
      "[ 1945 ] 역번역 질문: 네트워크 교통 점검을 통해 단순 항바이러스 도구를 찾을 수 있는 것은 무엇인가?\n",
      "\n",
      "[ 1352 ] 기존 질문  : 스퀴드워드를 주로 무시하는 등장인물은?\n",
      "[ 1352 ] 역번역 질문: 키워드를 무시하는 주인공은 누구입니까?\n",
      "\n",
      "[ 2682 ] 기존 질문  : 새누리당의 무상급식 관련 정책적 모순점을 지적한 인물은?\n",
      "[ 2682 ] 역번역 질문: 누가 새누리당의 무상급식에서 정책적 모순을 지적했을까?\n",
      "\n",
      "[ 3381 ] 기존 질문  : 훈족이 교황을 만나고 돌아가던 순례자들을 공격한 곳은?\n",
      "[ 3381 ] 역번역 질문: 훈족이 교황을 만난 뒤 돌아오는 팔로워들을 어디로 공격했을까.\n",
      "\n",
      "[ 1068 ] 기존 질문  : 임시발병규정에서 채택된 군사는 무엇에 능력이 뛰어난가?\n",
      "[ 1068 ] 역번역 질문: 임시 발병에 대한 우수한 군사능력은 무엇인가?\n",
      "\n",
      "[ 3851 ] 기존 질문  : 이마무라와 다스다에게 참수형을 선고한 기관은?\n",
      "[ 3851 ] 역번역 질문: 이마무라와 다스다를 선고한 소속사가 입장을 밝혔나요?\n",
      "\n",
      "[ 1040 ] 기존 질문  : 김순명은 무엇에 의해 사망했나요?\n",
      "[ 1040 ] 역번역 질문: 무엇이 김순명을 죽였습니까?\n",
      "\n",
      "[ 3921 ] 기존 질문  : 의무교육과정이 끝나고도 아일랜드어를 쓰는 지역은?\n",
      "[ 3921 ] 역번역 질문: 의무교육과정이 끝난 후에도 어떤 영역을 사용하는가?\n",
      "\n",
      "[ 880 ] 기존 질문  : 타지마할은 산성비로 어떤 피해를 입었는가?\n",
      "[ 880 ] 역번역 질문: 타지마할의 산 비용에 어떤 피해가 있었나요?\n",
      "\n",
      "[ 3035 ] 기존 질문  : 루카시의 아들이 태어난 곳은?\n",
      "[ 3035 ] 역번역 질문: 루카시의 아들은 어디서 태어났습니까?\n",
      "\n",
      "[ 1647 ] 기존 질문  : 유약을 바르지 않고 구운 도자기 표면의 이름은 무엇인가요?\n",
      "[ 1647 ] 역번역 질문: 마약을 쓰지 않는 도자기 표면의 이름이 뭐야?\n",
      "\n",
      "[ 1926 ] 기존 질문  : 요한 베르크만스가 사망한 날짜는?\n",
      "[ 1926 ] 역번역 질문: 존 버크만이 어느 날 죽었나요?\n",
      "\n",
      "[ 3279 ] 기존 질문  : 델핀이 젊은 남자와 같이 녹색 광선을 본 곳은?\n",
      "[ 3279 ] 역번역 질문: 델피인은 어디서 젊은 남자처럼 푸른 빛을 보았나요?\n",
      "\n",
      "[ 908 ] 기존 질문  : 쯔웨는 SM엔터테인먼트에 누구의 영화 출연을 요구했나요?\n",
      "[ 908 ] 역번역 질문: 누가 SM엔터테인먼트에 출연을 요청했나요?\n",
      "\n",
      "[ 644 ] 기존 질문  : 믹 테일러는 어떤 밴드에서 기타를 연주하였나?\n",
      "[ 644 ] 역번역 질문: 어느 밴드에서 믹 테일러가 기타를 연주했나요?\n",
      "\n",
      "[ 2030 ] 기존 질문  : 데메트리오스가 전황을 타개하기 위해 투입했으나 실패한 병력은?\n",
      "[ 2030 ] 역번역 질문: 트리오스는 상황을 극복하기 위해 배치했지만 누가 실패했을까?\n",
      "\n",
      "[ 3273 ] 기존 질문  : 홍준표 후보는 소양강과 함께 어떤 것을 사례로 들며 녹조가 생기는 이유를 설명하였나?\n",
      "[ 3273 ] 역번역 질문: 홍준표 후보는 소양강이 무엇을 예로 들어 녹조의 이유를 설명했다.\n",
      "\n",
      "[ 3644 ] 기존 질문  : 팔성사의 8개의 작은 절마다 사는 사람은?\n",
      "[ 3644 ] 역번역 질문: 팔성사의 작은 8개 노선에 사는 사람은 누구인가?\n",
      "\n"
     ]
    }
   ],
   "source": [
    "random_indices = random.sample(range(len(train_dataset)), 30)\n",
    "\n",
    "# 원래 질문과 역번역된 질문 출력 (랜덤 30개)\n",
    "for idx in random_indices:\n",
    "    original = train_dataset[idx]\n",
    "    augmented = aug_train_data[idx]\n",
    "    print(\"[\", idx, \"]\" + f\" 기존 질문  : {original['question']}\")\n",
    "    print(\"[\", idx, \"]\" + f\" 역번역 질문: {augmented['question']}\\n\")"
   ]
  },
  {
   "cell_type": "markdown",
   "metadata": {},
   "source": [
    "----------\n",
    "##### 새로운 disk에 저장"
   ]
  },
  {
   "cell_type": "code",
   "execution_count": 17,
   "metadata": {},
   "outputs": [
    {
     "name": "stderr",
     "output_type": "stream",
     "text": [
      "Saving the dataset (1/1 shards): 100%|██████████| 11856/11856 [00:00<00:00, 240173.43 examples/s]\n"
     ]
    }
   ],
   "source": [
    "combined_data = DatasetDict({'train': concatenate_datasets([train_dataset, aug_train_data, ja_train_data])})\n",
    "combined_data.save_to_disk(disk + \"/pororoBT_en_ja_train_data/\")"
   ]
  },
  {
   "cell_type": "markdown",
   "metadata": {},
   "source": [
    "- 기존 + 영어 역번역 : 7904개까지 증강\n",
    "- 기존 + 영어 + 일본어 : 11856개까지 증강"
   ]
  },
  {
   "cell_type": "code",
   "execution_count": 18,
   "metadata": {},
   "outputs": [
    {
     "data": {
      "text/plain": [
       "{'title': '이재명 (영화인)',\n",
       " 'context': '전라남도 광주에서 출생하여 목포상업전수학교를 졸업했다. 이후 일본에 유학하여 니혼 대학 문과를 졸업한 뒤 도쿄에서 연출을 공부하고였다. 귀국한 뒤 처음 기획을 맡은 영화는 이광수의 소설을 영화화한 《무정》(1939)이다.\\\\n\\\\n1937년에 조선영화주식회사 지배인으로 입사했으며, 관제 기업인 조영에서 상당한 실세였다는 증언이 있다. 이재명은 1930년대 중반부터 영화 제작이 전문화, 분업화될 무렵에 등장한 최초의 본격적 영화 프로듀서였다.\\\\n\\\\n1940년대 국책영화 시기에 조선총독부의 협찬으로 제작된 어용영화 《흙에 산다》(1942) 등을 기획했다. 황도학회 발기인을 맡았고, 1941년 잡지 《영화평론》에서 마련한 친일 성격의 좌담회에 백철, 최인규, 허영 등과 함께 참가 한 적도 있다.\\\\n\\\\n1942년에는 조선영화주식회사가 기존의 영화사를 강제 통합하여 단일 회사로 출범했다. 이재명은 여기에 입사하여 기술과장과 촬영과장을 겸임하면서 전시체제 하의 영화계 재편 과정과 국책영화 제작에 적극적으로 협조했다. 2008년 발표된 민족문제연구소의 친일인명사전 수록예정자 명단 연극/영화 부문에 포함되었다.\\\\n\\\\n태평양 전쟁 종전 이후 조선영화주식회사의 운영권을 일본인으로부터 넘겨받은 뒤, 이를 바탕으로 결성된 조선문화건설중앙협의회의 영화 부문과 조직체인 조선영화건설본부에 참여했다. 이후 조선영화동맹의 중앙집행위원도 맡았다. 두 단체는 기본적으로 좌익 계열이었으나, 혼란기였기 때문에 여러 성향을 가진 인물들이 섞여 있었다.\\\\n\\\\n아세아영화사 대표 등을 지내며 영화제작자로 1960년대 초반까지 꾸준히 활동했다. 배우 남궁원이 집안 사정이 어려울 때 친구 아버지였던 이재명을 찾아가 도움을 청했다가 영화계에 데뷔하게 되었다는 일화가 있다.',\n",
       " 'question': '무정을 기획한 인물이 태어난 도시는?',\n",
       " 'id': 'mrc-0-003700',\n",
       " 'answers': {'answer_start': [0], 'text': ['전라남도 광주']},\n",
       " 'document_id': 11768,\n",
       " '__index_level_0__': 2435}"
      ]
     },
     "execution_count": 18,
     "metadata": {},
     "output_type": "execute_result"
    }
   ],
   "source": [
    "combined_data['train'][11111]"
   ]
  },
  {
   "cell_type": "markdown",
   "metadata": {},
   "source": [
    "----------\n",
    "##### 데이터 백업"
   ]
  },
  {
   "cell_type": "code",
   "execution_count": 19,
   "metadata": {},
   "outputs": [
    {
     "name": "stderr",
     "output_type": "stream",
     "text": [
      "Saving the dataset (1/1 shards): 100%|██████████| 3952/3952 [00:00<00:00, 212413.37 examples/s]\n",
      "Saving the dataset (1/1 shards): 100%|██████████| 3952/3952 [00:00<00:00, 222872.10 examples/s]\n"
     ]
    }
   ],
   "source": [
    "aug_train_data.save_to_disk(disk + \"/augmented_train_data/\")\n",
    "ja_train_data.save_to_disk(disk + \"/japanese_train_data/\")"
   ]
  }
 ],
 "metadata": {
  "kernelspec": {
   "display_name": "Python 3",
   "language": "python",
   "name": "python3"
  },
  "language_info": {
   "codemirror_mode": {
    "name": "ipython",
    "version": 3
   },
   "file_extension": ".py",
   "mimetype": "text/x-python",
   "name": "python",
   "nbconvert_exporter": "python",
   "pygments_lexer": "ipython3",
   "version": "3.8.20"
  }
 },
 "nbformat": 4,
 "nbformat_minor": 2
}
