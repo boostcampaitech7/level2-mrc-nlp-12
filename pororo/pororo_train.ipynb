{
 "cells": [
  {
   "cell_type": "markdown",
   "metadata": {},
   "source": [
    "##### Pororo를 활용한 역번역\n",
    "- train_dataset에 존재하는 question 데이터를 증강하기 위해서 사용했습니다.\n",
    "- question을 제외한 기존의 필드는 유지하는 조건을 가져갑니다."
   ]
  },
  {
   "cell_type": "markdown",
   "metadata": {},
   "source": [
    "----------\n",
    "##### import Pororo"
   ]
  },
  {
   "cell_type": "code",
   "execution_count": 1,
   "metadata": {},
   "outputs": [
    {
     "name": "stderr",
     "output_type": "stream",
     "text": [
      "/data/ephemeral/home/shark/lib/python3.8/site-packages/tqdm/auto.py:21: TqdmWarning: IProgress not found. Please update jupyter and ipywidgets. See https://ipywidgets.readthedocs.io/en/stable/user_install.html\n",
      "  from .autonotebook import tqdm as notebook_tqdm\n"
     ]
    }
   ],
   "source": [
    "import pororo\n",
    "from pororo import Pororo"
   ]
  },
  {
   "cell_type": "markdown",
   "metadata": {},
   "source": [
    "----------\n",
    "##### 필요 Import"
   ]
  },
  {
   "cell_type": "code",
   "execution_count": 42,
   "metadata": {},
   "outputs": [],
   "source": [
    "import nltk\n",
    "import torch\n",
    "import random\n",
    "from datasets import load_from_disk, Dataset, DatasetDict, concatenate_datasets\n"
   ]
  },
  {
   "cell_type": "markdown",
   "metadata": {},
   "source": [
    "----------\n",
    "##### 초기 설정\n",
    "- nltk.download 진행 시 'punkt'가 아닌 'punkt_tab'을 입력  \n",
    "※ 'punkt' 입력할 경우 mt(mt(text, src=\"ko\", tgt=\"en\"), src=\"en\", tgt=\"ko\")에서 오류 발생"
   ]
  },
  {
   "cell_type": "code",
   "execution_count": 14,
   "metadata": {},
   "outputs": [
    {
     "name": "stderr",
     "output_type": "stream",
     "text": [
      "[nltk_data] Downloading package punkt_tab to\n",
      "[nltk_data]     /data/ephemeral/home/nltk_data...\n",
      "[nltk_data]   Package punkt_tab is already up-to-date!\n"
     ]
    }
   ],
   "source": [
    "device = \"cuda\" if torch.cuda.is_available() else \"cpu\"\n",
    "nltk.download('punkt_tab')\n",
    "mt = Pororo(task=\"translation\", lang=\"multi\", model='transformer.large.multi.mtpg')"
   ]
  },
  {
   "cell_type": "markdown",
   "metadata": {},
   "source": [
    "----------\n",
    "##### 데이터 불러오기"
   ]
  },
  {
   "cell_type": "code",
   "execution_count": 15,
   "metadata": {},
   "outputs": [
    {
     "name": "stdout",
     "output_type": "stream",
     "text": [
      "3952\n"
     ]
    }
   ],
   "source": [
    "disk = \"/data/ephemeral/home/level2-mrc-nlp-12/data\"\n",
    "\n",
    "train_data = load_from_disk(disk + \"/train_dataset/\")\n",
    "train_dataset = train_data[\"train\"]\n",
    "print(len(train_data['train']))"
   ]
  },
  {
   "cell_type": "markdown",
   "metadata": {},
   "source": [
    "----------\n",
    "##### 역번역"
   ]
  },
  {
   "cell_type": "code",
   "execution_count": 28,
   "metadata": {},
   "outputs": [],
   "source": [
    "def back_translation(text):\n",
    "    return mt(mt(text, src=\"ko\", tgt=\"en\"), src=\"en\", tgt=\"ko\")"
   ]
  },
  {
   "cell_type": "code",
   "execution_count": 29,
   "metadata": {},
   "outputs": [
    {
     "name": "stdout",
     "output_type": "stream",
     "text": [
      "케빈은 집에 갔다 하지만 나는 더 뛰고 싶다\n"
     ]
    }
   ],
   "source": [
    "text = \"케빈은 집에 갔다. 그러나 더 놀고 싶어한다.\"\n",
    "test = back_translation(text)\n",
    "print(test)"
   ]
  },
  {
   "cell_type": "markdown",
   "metadata": {},
   "source": [
    "----------\n",
    "##### 증강"
   ]
  },
  {
   "cell_type": "code",
   "execution_count": 30,
   "metadata": {},
   "outputs": [],
   "source": [
    "def augment_data(train_dataset, limit):\n",
    "    augmented_examples = []\n",
    "    for idx, example in enumerate(train_dataset):\n",
    "        if idx >= limit:\n",
    "            break\n",
    "        original_question = example['question']\n",
    "        \n",
    "        #역번역\n",
    "        back_translated_question = back_translation(original_question)\n",
    "        \n",
    "        # 새로운 예제 생성\n",
    "        new_example = example.copy()\n",
    "        new_example['question'] = back_translated_question\n",
    "        \n",
    "        augmented_examples.append(new_example)\n",
    "    \n",
    "    # 리스트를 딕셔너리로 변환하여 Dataset 생성\n",
    "    aug_train_data_dict = {key: [ex[key] for ex in augmented_examples] for key in augmented_examples[0]}\n",
    "    aug_train_data = Dataset.from_dict(aug_train_data_dict)\n",
    "    \n",
    "    return aug_train_data"
   ]
  },
  {
   "cell_type": "code",
   "execution_count": 34,
   "metadata": {},
   "outputs": [],
   "source": [
    "#제한 개수\n",
    "augmentation_limit = len(train_data['train'])       #전체\n",
    "\n",
    "aug_train_data = augment_data(train_dataset, augmentation_limit)"
   ]
  },
  {
   "cell_type": "markdown",
   "metadata": {},
   "source": [
    "----------\n",
    "##### 데이터 출력 (상위 10개)"
   ]
  },
  {
   "cell_type": "code",
   "execution_count": 51,
   "metadata": {},
   "outputs": [
    {
     "name": "stdout",
     "output_type": "stream",
     "text": [
      "[ 0 ] 기존 질문  : 대통령을 포함한 미국의 행정부 견제권을 갖는 국가 기관은?\n",
      "[ 0 ] 역번역 질문: 어떤 국가기관이 대통령을 포함한 미국 행정부를 견제할 권리가 있는가?\n",
      "\n",
      "[ 1 ] 기존 질문  : 현대적 인사조직관리의 시발점이 된 책은?\n",
      "[ 1 ] 역번역 질문: 현대 인사 운영의 출발점이 어떤 책이 됐을까?\n",
      "\n",
      "[ 2 ] 기존 질문  : 강희제가 1717년에 쓴 글은 누구를 위해 쓰여졌는가?\n",
      "[ 2 ] 역번역 질문: 강희제가 누구를 위해 1717년에 썼나요?\n",
      "\n",
      "[ 3 ] 기존 질문  : 11~12세기에 제작된 본존불은 보통 어떤 나라의 특징이 전파되었나요?\n",
      "[ 3 ] 역번역 질문: 보통 11세기와 12세기에 전국의 특성이 어떤 것이냐는 것이다.\n",
      "\n",
      "[ 4 ] 기존 질문  : 명문이 적힌 유물을 구성하는 그릇의 총 개수는?\n",
      "[ 4 ] 역번역 질문: 그 이름으로 작성된 유물의 전체 병은 몇 개입니까?\n",
      "\n",
      "[ 5 ] 기존 질문  : 카드모스의 부하들이 간 곳에는 무엇이 있었는가?\n",
      "[ 5 ] 역번역 질문: 카드모스 남자들이 어디로 갔지?\n",
      "\n",
      "[ 6 ] 기존 질문  : 관우를 불태워 죽이려한 사람 누구인가?\n",
      "[ 6 ] 역번역 질문: 관을 태우려던 사람은 누구입니까?\n",
      "\n",
      "[ 7 ] 기존 질문  : 참호 속에 무기와 장비를 버리고 도주한 집단은?\n",
      "[ 7 ] 역번역 질문: 재난 속에서 무기와 장비를 버린 사람들이 한 무리인가요?\n",
      "\n",
      "[ 8 ] 기존 질문  : 제2차 세계 대전에 참전하여 사망한 자식은?\n",
      "[ 8 ] 역번역 질문: 2차 세계대전에서 누가 죽었나요?\n",
      "\n",
      "[ 9 ] 기존 질문  : 고려 공민왕이 처가 식구들과 아내와 함께 피신처로 삼은 마을은?\n",
      "[ 9 ] 역번역 질문: 고려왕은 어떤 마을에서 아내의 가족과 아내를 피난처로 만들었을까?\n",
      "\n"
     ]
    }
   ],
   "source": [
    "for idx, (original, augmented) in enumerate(zip(train_dataset, aug_train_data)):\n",
    "    if idx >= 10:\n",
    "        break\n",
    "    print(\"[\", idx, \"]\" + f\" 기존 질문  : {original['question']}\")\n",
    "    print(\"[\", idx, \"]\" + f\" 역번역 질문: {augmented['question']}\\n\")"
   ]
  },
  {
   "cell_type": "markdown",
   "metadata": {},
   "source": [
    "##### 랜덤한 30개 출력"
   ]
  },
  {
   "cell_type": "code",
   "execution_count": 53,
   "metadata": {},
   "outputs": [
    {
     "name": "stdout",
     "output_type": "stream",
     "text": [
      "[ 1634 ] 기존 질문  : 두 번째, 세 번째 피아노 협주곡 중 먼저 세상에 알려진 곡은?\n",
      "[ 1634 ] 역번역 질문: 두 번째와 세 번째 피아노 콘서트가 세계에서 처음 알려진 곡인가?\n",
      "\n",
      "[ 2082 ] 기존 질문  : 미국과 달리 이민자 남성과 현지인의 결혼이 가능했던 국가는?\n",
      "[ 2082 ] 역번역 질문: 미국과 달리 이민자와 현지인들이 결혼할 수 있는 곳은 어디인가?\n",
      "\n",
      "[ 140 ] 기존 질문  : 파이어폭스 이전 가장 잘나가던 웹 브라우저는?\n",
      "[ 140 ] 역번역 질문: 불폭스 역사상 최고의 웹 브라우저는 무엇입니까?\n",
      "\n",
      "[ 3884 ] 기존 질문  : 프랑수아 뒤발리에를 뒤를 이어 대통령이 된 자는?\n",
      "[ 3884 ] 역번역 질문: 판타지아의 꼬리를 물고 누가 대통령이 되었나요?\n",
      "\n",
      "[ 448 ] 기존 질문  : 국문과 역사를 가르치던 곳에서 민족의지의 격려를 위해 불렀던 노래는 무엇인가?\n",
      "[ 448 ] 역번역 질문: 한국 문화와 역사를 가르치는 자리에서 국민들의 뜻을 부추기기 위해 부른 노래는 무엇이었을까.\n",
      "\n",
      "[ 691 ] 기존 질문  : 예측할 수 없는 대류의 움직임 때문에 발생하게 되는 것은?\n",
      "[ 691 ] 역번역 질문: 분위기의 예측 불가능한 움직임 때문에 어떻게 될까?\n",
      "\n",
      "[ 3205 ] 기존 질문  : 네팔의 헌법 수립안 투표에서 기권한 사람의 수는?\n",
      "[ 3205 ] 역번역 질문: 네팔 헌법 수립에 투표한 사람들은 몇 명이나 되죠?\n",
      "\n",
      "[ 1091 ] 기존 질문  : 윤치오가 특파대사직에 고용된 것을 막으려한 나라는?\n",
      "[ 1091 ] 역번역 질문: 윤치오 특사가 특사로 채용되는 것을 막으려는 나라가 있는가?\n",
      "\n",
      "[ 1097 ] 기존 질문  : 티무르 다음으로 바그다드를 다스리게 된 사람은?\n",
      "[ 1097 ] 역번역 질문: 바그다드를 지배하는 팀우 옆에는 누가 될까?\n",
      "\n",
      "[ 1970 ] 기존 질문  : 메디치 가문의 몰락 후 토스카나를 넘겨받은 사람은?\n",
      "[ 1970 ] 역번역 질문: 누가 메디카니 가족이 추락한 뒤 도스카나를 인수했을까?\n",
      "\n",
      "[ 381 ] 기존 질문  : 백인들이 핸콕 추장을 살해한 이유는?\n",
      "[ 381 ] 역번역 질문: 백인들이 한국 최고경영자를 죽인 이유가 바로 이 때문이다.\n",
      "\n",
      "[ 832 ] 기존 질문  : 비가 내린 뒤 밤에 결혼비행을 하는 개체는 무엇인가?\n",
      "[ 832 ] 역번역 질문: 비가 온 뒤 밤에 결혼식 비행 대상은 무엇입니까?\n",
      "\n",
      "[ 554 ] 기존 질문  : 갓난아기의 딸국질을 멎게 하려면 아기한테 무엇을 주는 것이 좋은가?\n",
      "[ 554 ] 역번역 질문: 아기의 며느리를 막기 위해 아기에게 무엇을 주고 싶니?\n",
      "\n",
      "[ 3530 ] 기존 질문  : 박근혜 후보 대선 캠프에서 윤씨의 직책은?\n",
      "[ 3530 ] 역번역 질문: 윤씨가 박근혜 대통령 선거 캠페인에서 무슨 일을 하고 있는가?\n",
      "\n",
      "[ 57 ] 기존 질문  : 작중 샤를 지 브리타니아가 비판한 사상은?\n",
      "[ 57 ] 역번역 질문: 브리티니아가 나눔을 비판하는 생각은 무엇인가?\n",
      "\n",
      "[ 538 ] 기존 질문  : 여운형으로 하여금 신분차별을 반대하게 만든 인물은?\n",
      "[ 538 ] 역번역 질문: 누가 여운형을 신분 차별에 반대하게 만들었을까?\n",
      "\n",
      "[ 3266 ] 기존 질문  : 옐친 대통령이 의회를 해산하는 계기를 만들었던 집단은?\n",
      "[ 3266 ] 역번역 질문: 엘첸이 국회를 해체하기 위해 어떤 단체를 만들었나요?\n",
      "\n",
      "[ 2339 ] 기존 질문  : 마가렛 매더슨의 조수 역할을 했던 사람의 직업은?\n",
      "[ 2339 ] 역번역 질문: 마가렛 매드슨의 조수를 지낸 남자의 직업은 무엇인가?\n",
      "\n",
      "[ 638 ] 기존 질문  : 버몬트 공화국 헌법에 삼권 분립 원칙이 더해진 해는?\n",
      "[ 638 ] 역번역 질문: 버른몬트 공화국 헌법에 3권 분리 원칙이 추가된 해는 어떤 해인가?\n",
      "\n",
      "[ 971 ] 기존 질문  : 광해군이 나라를 통치할 당시에 주도권을 가지고 있던 파는?\n",
      "[ 971 ] 역번역 질문: 광해군이 국가를 통치할 때 주도권을 갖고 있다고 판매하는가?\n",
      "\n",
      "[ 109 ] 기존 질문  : 맥스가 본사로 복귀하기 위해 활용한 인물은?\n",
      "[ 109 ] 역번역 질문: 누가 맥스를 이용해서 본사로 돌아왔지?\n",
      "\n",
      "[ 345 ] 기존 질문  : 선원들을 선동하여 에스파니아 군함을 빼앗은 사람은?\n",
      "[ 345 ] 역번역 질문: 누가 승무원들을 불러들이고 에스패니아 전함을 가져갔나요?\n",
      "\n",
      "[ 2392 ] 기존 질문  : 소전제와 대전제에서 나타나는 제3의 개념을 무엇이라고 부르는가?\n",
      "[ 2392 ] 역번역 질문: 보존 시스템과 대전 축제에 등장하는 세 번째 개념은 무엇이라고 합니까?\n",
      "\n",
      "[ 1760 ] 기존 질문  : 보증금은 누가 납입하는가?\n",
      "[ 1760 ] 역번역 질문: 누가 보증금을 지불하나요?\n",
      "\n",
      "[ 3750 ] 기존 질문  : 여러 명의 군사들이 각 부분을 나눠 옮겨야했던 포가 발명된 시기의 왕는?\n",
      "[ 3750 ] 역번역 질문: 각 부분에서 많은 군인들이 공유해야 했던 포병이 발명된 시대의 왕이었을까.\n",
      "\n",
      "[ 439 ] 기존 질문  : 문명호의 녕원군 이전 근무지는?\n",
      "[ 439 ] 역번역 질문: 문명호가 농원군으로 이적한 곳은 어디입니까?\n",
      "\n",
      "[ 368 ] 기존 질문  : 틸이 시체로 발견된 것은 실종 후 얼마 뒤였나요?\n",
      "[ 368 ] 역번역 질문: 그가 사라진 지 얼마나 됐나요?\n",
      "\n",
      "[ 2743 ] 기존 질문  : 위표가 항우 쪽으로 돌아서는 계기가 된 발언을 한 인물은 누구인가?\n",
      "[ 2743 ] 역번역 질문: 좌표가 항우를 향해 돌아섰다는 진술을 한 사람은 누구인가?\n",
      "\n",
      "[ 2240 ] 기존 질문  : 동로마 제국의 총대주교가 불가리아 총대교구를 정식으로 인정한 것은 어느 왕이 죽고 난 뒤인가?\n",
      "[ 2240 ] 역번역 질문: 동로마 총주교가 불가리아 총대를 공식적으로 인정한 이후 어떤 왕이 사망했을까.\n",
      "\n",
      "[ 801 ] 기존 질문  : 빔비사라의 아들이며 앙가를 다스린 사람은 누구인가?\n",
      "[ 801 ] 역번역 질문: 반비사라의 아들이 누구인지, 앵커를 지배해온 남자는 누구입니까?\n",
      "\n"
     ]
    }
   ],
   "source": [
    "random_indices = random.sample(range(len(train_dataset)), 30)\n",
    "\n",
    "# 원래 질문과 역번역된 질문 출력 (랜덤 30개)\n",
    "for idx in random_indices:\n",
    "    original = train_dataset[idx]\n",
    "    augmented = aug_train_data[idx]\n",
    "    print(\"[\", idx, \"]\" + f\" 기존 질문  : {original['question']}\")\n",
    "    print(\"[\", idx, \"]\" + f\" 역번역 질문: {augmented['question']}\\n\")"
   ]
  },
  {
   "cell_type": "markdown",
   "metadata": {},
   "source": [
    "----------\n",
    "##### 새로운 disk에 저장"
   ]
  },
  {
   "cell_type": "code",
   "execution_count": 43,
   "metadata": {},
   "outputs": [
    {
     "name": "stderr",
     "output_type": "stream",
     "text": [
      "Saving the dataset (1/1 shards): 100%|██████████| 7904/7904 [00:00<00:00, 219420.33 examples/s]\n"
     ]
    }
   ],
   "source": [
    "combined_data = DatasetDict({'train': concatenate_datasets([train_dataset, aug_train_data])})\n",
    "combined_data.save_to_disk(disk + \"/pororoBT_en_train_data/\")"
   ]
  },
  {
   "cell_type": "code",
   "execution_count": 48,
   "metadata": {},
   "outputs": [
    {
     "ename": "TypeError",
     "evalue": "'module' object is not callable",
     "output_type": "error",
     "traceback": [
      "\u001b[0;31m---------------------------------------------------------------------------\u001b[0m",
      "\u001b[0;31mTypeError\u001b[0m                                 Traceback (most recent call last)",
      "Cell \u001b[0;32mIn[48], line 1\u001b[0m\n\u001b[0;32m----> 1\u001b[0m combined_data[\u001b[38;5;124m'\u001b[39m\u001b[38;5;124mtrain\u001b[39m\u001b[38;5;124m'\u001b[39m][\u001b[43mrandom\u001b[49m\u001b[43m(\u001b[49m\u001b[38;5;28;43mlen\u001b[39;49m\u001b[43m(\u001b[49m\u001b[43mcombined_data\u001b[49m\u001b[43m)\u001b[49m\u001b[43m)\u001b[49m]\n",
      "\u001b[0;31mTypeError\u001b[0m: 'module' object is not callable"
     ]
    }
   ],
   "source": [
    "combined_data['train'][random(len(combined_data))]"
   ]
  }
 ],
 "metadata": {
  "kernelspec": {
   "display_name": "Python 3",
   "language": "python",
   "name": "python3"
  },
  "language_info": {
   "codemirror_mode": {
    "name": "ipython",
    "version": 3
   },
   "file_extension": ".py",
   "mimetype": "text/x-python",
   "name": "python",
   "nbconvert_exporter": "python",
   "pygments_lexer": "ipython3",
   "version": "3.8.20"
  }
 },
 "nbformat": 4,
 "nbformat_minor": 2
}
