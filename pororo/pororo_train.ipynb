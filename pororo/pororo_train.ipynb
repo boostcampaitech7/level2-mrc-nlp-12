{
 "cells": [
  {
   "cell_type": "code",
   "execution_count": 1,
   "metadata": {},
   "outputs": [
    {
     "name": "stderr",
     "output_type": "stream",
     "text": [
      "/data/ephemeral/home/shark/lib/python3.8/site-packages/tqdm/auto.py:21: TqdmWarning: IProgress not found. Please update jupyter and ipywidgets. See https://ipywidgets.readthedocs.io/en/stable/user_install.html\n",
      "  from .autonotebook import tqdm as notebook_tqdm\n"
     ]
    }
   ],
   "source": [
    "import pororo\n",
    "from pororo import Pororo"
   ]
  },
  {
   "cell_type": "code",
   "execution_count": 8,
   "metadata": {},
   "outputs": [],
   "source": [
    "#import 모음\n",
    "\n",
    "import nltk\n",
    "import torch\n",
    "from datasets import load_from_disk, DatasetDict"
   ]
  },
  {
   "cell_type": "code",
   "execution_count": 6,
   "metadata": {},
   "outputs": [
    {
     "name": "stderr",
     "output_type": "stream",
     "text": [
      "[nltk_data] Downloading package punkt_tab to\n",
      "[nltk_data]     /data/ephemeral/home/nltk_data...\n",
      "[nltk_data]   Package punkt_tab is already up-to-date!\n"
     ]
    }
   ],
   "source": [
    "device = \"cuda\" if torch.cuda.is_available() else \"cpu\"\n",
    "nltk.download('punkt_tab')      #'punkt'를 적을 경우 역번역 불가\n",
    "mt = Pororo(task=\"translation\", lang=\"multi\", model='transformer.large.multi.mtpg')"
   ]
  },
  {
   "cell_type": "code",
   "execution_count": 9,
   "metadata": {},
   "outputs": [
    {
     "name": "stdout",
     "output_type": "stream",
     "text": [
      "3952\n"
     ]
    }
   ],
   "source": [
    "disk = \"/data/ephemeral/home/level2-mrc-nlp-12/data\"\n",
    "\n",
    "train_data = load_from_disk(disk + \"/train_dataset/\")\n",
    "train_dataset = train_data[\"train\"]\n",
    "print(len(train_data['train']))"
   ]
  },
  {
   "cell_type": "code",
   "execution_count": 7,
   "metadata": {},
   "outputs": [],
   "source": [
    "def back_translation(text):\n",
    "    return mt(mt(text, src=\"ko\", tgt=\"en\"), tgt=\"en\", src=\"ko\")"
   ]
  },
  {
   "cell_type": "code",
   "execution_count": null,
   "metadata": {},
   "outputs": [],
   "source": [
    "def augment_data(train_dataset, limit):\n",
    "    augmented_questions = []\n",
    "    for idx, example in enumerate(train_dataset):\n",
    "        if idx >= limit:\n",
    "            break\n",
    "        original_question = example['question']\n",
    "        \n",
    "        #역번역\n",
    "        back_translated_question = back_translation(original_question)\n",
    "        \n",
    "        # 새로운 예제 생성\n",
    "        new_example = example.copy()\n",
    "        new_example['question'] = back_translated_question\n",
    "        \n",
    "        augmented_questions.append(new_example)\n",
    "    \n",
    "    # 새로운 데이터셋 생성\n",
    "    aug_train_data = DatasetDict({'train': train_dataset.add_items(augmented_questions)})\n",
    "    \n",
    "    return aug_train_data"
   ]
  },
  {
   "cell_type": "code",
   "execution_count": null,
   "metadata": {},
   "outputs": [],
   "source": [
    "#제한 개수\n",
    "augmentation_limit = len(train_data['train'])       #전체\n",
    "\n",
    "aug_train_data = augment_data(train_dataset, augmentation_limit)"
   ]
  }
 ],
 "metadata": {
  "kernelspec": {
   "display_name": "Python 3",
   "language": "python",
   "name": "python3"
  },
  "language_info": {
   "codemirror_mode": {
    "name": "ipython",
    "version": 3
   },
   "file_extension": ".py",
   "mimetype": "text/x-python",
   "name": "python",
   "nbconvert_exporter": "python",
   "pygments_lexer": "ipython3",
   "version": "3.8.20"
  }
 },
 "nbformat": 4,
 "nbformat_minor": 2
}
